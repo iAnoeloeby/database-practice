{
 "cells": [
  {
   "cell_type": "code",
   "execution_count": 1,
   "metadata": {},
   "outputs": [],
   "source": [
    "import sqlite3\n",
    "import pandas as pd"
   ]
  },
  {
   "cell_type": "code",
   "execution_count": 2,
   "metadata": {},
   "outputs": [],
   "source": [
    "connect = sqlite3.connect('responsi.db')\n",
    "cursor = connect.cursor()"
   ]
  },
  {
   "cell_type": "code",
   "execution_count": 3,
   "metadata": {},
   "outputs": [
    {
     "data": {
      "text/plain": [
       "<sqlite3.Cursor at 0x71fedc3cc1c0>"
      ]
     },
     "execution_count": 3,
     "metadata": {},
     "output_type": "execute_result"
    }
   ],
   "source": [
    "cursor.execute('''\n",
    "    CREATE TABLE IF NOT EXISTS Mahasiswa(\n",
    "        NIM int(11) PRIMARY KEY NOT NULL,\n",
    "        Nama TEXT,\n",
    "        TanggalLahir DATE,\n",
    "        Alamat TEXT,\n",
    "        Password TEXT\n",
    "    )\n",
    "''')"
   ]
  },
  {
   "cell_type": "code",
   "execution_count": 4,
   "metadata": {},
   "outputs": [
    {
     "data": {
      "text/plain": [
       "<sqlite3.Cursor at 0x71fedc3cc1c0>"
      ]
     },
     "execution_count": 4,
     "metadata": {},
     "output_type": "execute_result"
    }
   ],
   "source": [
    "cursor.execute('''\n",
    "    CREATE TABLE IF NOT EXISTS Dosen(\n",
    "        NIDN int(11) PRIMARY KEY NOT NULL,\n",
    "        Nama TEXT,\n",
    "        Departemen TEXT,\n",
    "        Email TEXT\n",
    "    )\n",
    "''')"
   ]
  },
  {
   "cell_type": "code",
   "execution_count": 5,
   "metadata": {},
   "outputs": [
    {
     "data": {
      "text/plain": [
       "<sqlite3.Cursor at 0x71fedc3cc1c0>"
      ]
     },
     "execution_count": 5,
     "metadata": {},
     "output_type": "execute_result"
    }
   ],
   "source": [
    "cursor.execute('''\n",
    "    CREATE TABLE IF NOT EXISTS MataKuliah(\n",
    "        KodeMK VARCHAR(11) PRIMARY KEY,\n",
    "        NamaMK TEXT,\n",
    "        SKS TEXT,\n",
    "        NIDN int(11) NOT NULL,\n",
    "        FOREIGN KEY (NIDN) REFERENCES Dosen(NIDN)\n",
    "    )\n",
    "''')"
   ]
  },
  {
   "cell_type": "code",
   "execution_count": 6,
   "metadata": {},
   "outputs": [
    {
     "data": {
      "text/html": [
       "<div>\n",
       "<style scoped>\n",
       "    .dataframe tbody tr th:only-of-type {\n",
       "        vertical-align: middle;\n",
       "    }\n",
       "\n",
       "    .dataframe tbody tr th {\n",
       "        vertical-align: top;\n",
       "    }\n",
       "\n",
       "    .dataframe thead th {\n",
       "        text-align: right;\n",
       "    }\n",
       "</style>\n",
       "<table border=\"1\" class=\"dataframe\">\n",
       "  <thead>\n",
       "    <tr style=\"text-align: right;\">\n",
       "      <th></th>\n",
       "      <th>NIM</th>\n",
       "      <th>Nama</th>\n",
       "      <th>TanggalLahir</th>\n",
       "      <th>Alamat</th>\n",
       "      <th>Password</th>\n",
       "    </tr>\n",
       "  </thead>\n",
       "  <tbody>\n",
       "  </tbody>\n",
       "</table>\n",
       "</div>"
      ],
      "text/plain": [
       "Empty DataFrame\n",
       "Columns: [NIM, Nama, TanggalLahir, Alamat, Password]\n",
       "Index: []"
      ]
     },
     "execution_count": 6,
     "metadata": {},
     "output_type": "execute_result"
    }
   ],
   "source": [
    "query = 'SELECT * FROM Mahasiswa'\n",
    "\n",
    "data = pd.read_sql_query(query, connect)\n",
    "data"
   ]
  },
  {
   "cell_type": "code",
   "execution_count": 7,
   "metadata": {},
   "outputs": [],
   "source": [
    "import struct\n",
    "\n",
    "k = [\n",
    "    0x428a2f98, 0x71374491, 0xb5c0fbcf, 0xe9b5dba5, 0x3956c25b, 0x59f111f1, 0x923f82a4, 0xab1c5ed5,\n",
    "    0xd807aa98, 0x12835b01, 0x243185be, 0x550c7dc3, 0x72be5d74, 0x80deb1fe, 0x9bdc06a7, 0xc19bf174,\n",
    "    0xe49b69c1, 0xefbe4786, 0x0fc19dc6, 0x240ca1cc, 0x2de92c6f, 0x4a7484aa, 0x5cb0a9dc, 0x76f988da,\n",
    "    0x983e5152, 0xa831c66d, 0xb00327c8, 0xbf597fc7, 0xc6e00bf3, 0xd5a79147, 0x06ca6351, 0x14292967,\n",
    "    0x27b70a85, 0x2e1b2138, 0x4d2c6dfc, 0x53380d13, 0x650a7354, 0x766a0abb, 0x81c2c92e, 0x92722c85,\n",
    "    0xa2bfe8a1, 0xa81a664b, 0xc24b8b70, 0xc76c51a3, 0xd192e819, 0xd6990624, 0xf40e3585, 0x106aa070,\n",
    "    0x19a4c116, 0x1e376c08, 0x2748774c, 0x34b0bcb5, 0x391c0cb3, 0x4ed8aa4a, 0x5b9cca4f, 0x682e6ff3,\n",
    "    0x748f82ee, 0x78a5636f, 0x84c87814, 0x8cc70208, 0x90befffa, 0xa4506ceb, 0xbef9a3f7, 0xc67178f2\n",
    "]\n",
    "\n",
    "# Define and assign initial hash values inside the function\n",
    "h0=0x6a09e667\n",
    "h1=0xbb67ae85\n",
    "h2=0x3c6ef372\n",
    "h3=0xa54ff53a\n",
    "h4=0x510e527f\n",
    "h5=0x9b05688c\n",
    "h6=0x1f83d9ab\n",
    "h7=0x5be0cd19\n",
    "\n",
    "a = h0\n",
    "b = h1\n",
    "c = h2\n",
    "d = h3\n",
    "e = h4\n",
    "f = h5\n",
    "g = h6\n",
    "h = h7\n",
    "\n",
    "def intToendian(num):\n",
    "    return num.to_bytes(4, byteorder='little')\n",
    "\n",
    "def endian_length(length):\n",
    "    return length.to_bytes(8, byteorder='little')\n",
    "\n",
    "def left_rotate(x, y):\n",
    "    return ((x << y) | (x >> (32 - y))) & 0xFFFFFFFF\n",
    "\n",
    "\n",
    "def generate_SHA256(message):\n",
    "    real_width = len(message)\n",
    "    message += b'\\x80'\n",
    "    while len(message) % 64 != 56:\n",
    "        message += b'\\x80'\n",
    "    message += endian_length(real_width * 8)\n",
    "    a=h0\n",
    "    b=h1\n",
    "    c=h2\n",
    "    d=h3\n",
    "    e=h4\n",
    "    f=h5\n",
    "    g=h6\n",
    "    h=h7\n",
    "\n",
    "    for i in range(0, len(message), 64):\n",
    "        chunk = message[i:i+64]\n",
    "        w = [0] * 64\n",
    "        for j in range(16):\n",
    "            w[j] = struct.unpack('<I', chunk[j*4:j*4+4])[0]\n",
    "        for j in range(16, 64):\n",
    "            s0      = left_rotate(w[j-15], 7) ^ left_rotate(w[j-15], 18) ^ (w[j-15] >> 18)\n",
    "            s1      = left_rotate(w[j-2], 17) ^ left_rotate(w[j-2], 19) ^ (w[j-2] >> 10)\n",
    "            w[j]    = (w[j-16] + s0 + w[j-7] + s1) & 0xFFFFFFFF\n",
    "        a_temp = a\n",
    "        b_temp = b\n",
    "        c_temp = c\n",
    "        d_temp = d\n",
    "        e_temp = e\n",
    "        f_temp = f\n",
    "        g_temp = g\n",
    "        h_temp = h\n",
    "\n",
    "        for j in range(64):\n",
    "            S1      = left_rotate(e_temp, 6) ^ left_rotate(e_temp, 11) ^ left_rotate(e_temp, 25)\n",
    "            ch      = (e_temp + f_temp) ^ (-e_temp & g_temp)\n",
    "            temp1   = (h_temp + S1 + ch + k[j] + w[j]) & 0xFFFFFFFF\n",
    "\n",
    "            S0      = left_rotate(a_temp, 2) ^ left_rotate(a_temp, 13) ^ left_rotate(a_temp, 22)\n",
    "            maj     = (a_temp & b_temp) ^ (a_temp & c_temp) ^ (b_temp & c_temp)\n",
    "            temp2   = (S0 + maj) & 0xFFFFFFFF\n",
    "\n",
    "            h_temp = g_temp\n",
    "            g_temp = f_temp\n",
    "            f_temp = e_temp\n",
    "            e_temp = (d_temp + temp1) & 0xFFFFFFFF\n",
    "            d_temp = c_temp\n",
    "            c_temp = b_temp\n",
    "            b_temp = a_temp\n",
    "\n",
    "            a_temp = (temp1 + temp2) & 0xFFFFFFFF\n",
    "        \n",
    "        a = (a + a_temp) & 0xFFFFFFFF\n",
    "        b = (b + b_temp) & 0xFFFFFFFF\n",
    "        c = (c + c_temp) & 0xFFFFFFFF\n",
    "        d = (d + d_temp) & 0xFFFFFFFF\n",
    "        e = (e + e_temp) & 0xFFFFFFFF\n",
    "        f = (f + f_temp) & 0xFFFFFFFF\n",
    "        g = (g + g_temp) & 0xFFFFFFFF\n",
    "        h = (h + h_temp) & 0xFFFFFFFF\n",
    "\n",
    "    hash_result = (a << 224) | (b << 192) | (c << 160) | (d << 128) | (e << 96) | (f << 64) | (g << 32) | h\n",
    "\n",
    "    return '{:08x}'.format(hash_result)"
   ]
  },
  {
   "cell_type": "markdown",
   "metadata": {},
   "source": [
    "**HASHING PASSWORD SHA256**"
   ]
  },
  {
   "cell_type": "markdown",
   "metadata": {},
   "source": [
    "Alasan meng-generate password ke SHA256 yaitu password tidak disimpan dalam bentuk yang mudah dibaca \n",
    "dan dipahami, sehingga meningkatkan keamanan data mahasiswa dalam database."
   ]
  },
  {
   "cell_type": "code",
   "execution_count": 8,
   "metadata": {},
   "outputs": [
    {
     "name": "stdout",
     "output_type": "stream",
     "text": [
      "SHA256: pass123  >  48a6d1c7081661aacc2794b412ae36e596c46d693e3f2f6671f27262b76ca800\n",
      "SHA256: abcdef  >  b633c0326ee0a50a997544c77e5c76ff52eece99418745f7427d7e7baf03f87b\n",
      "SHA256: 123456  >  5b26e94f83805b618c1ea796af86dd5134fbf4a842a6592cf73345b2d4796cb2\n",
      "SHA256: qwerty  >  bac524e7658cbf186db504743a87a7a0631409c617de432a69b487b377ad0958\n",
      "SHA256: pass123  >  48a6d1c7081661aacc2794b412ae36e596c46d693e3f2f6671f27262b76ca800\n"
     ]
    }
   ],
   "source": [
    "Mahasiswa = [\n",
    "    (5220411100, 'John Doe', '2000-05-15', '123 Main St', 'pass123'),\n",
    "    (5220411101, 'Jane Smith', '1999-10-20', '456 Elm St', 'abcdef'),\n",
    "    (5220411102, 'Michael Johnson', '2001-03-25', '789 Oak St', '123456'),\n",
    "    (5220411103, 'Sarah Lee', '2002-08-12', '101 Pine St', 'qwerty'),\n",
    "    (5220411104, 'David Brown', '2000-12-30', '202 Maple St', 'pass123')\n",
    "]\n",
    "\n",
    "def generate(password):\n",
    "    result = generate_SHA256(password)\n",
    "    return result\n",
    "\n",
    "for data in Mahasiswa:\n",
    "    password_plain = data[4]\n",
    "    hashed_password = generate(password_plain.encode('utf-8'))\n",
    "    hashed_data = data[:4] + (hashed_password,)\n",
    "    print(f\"SHA256: {password_plain}  >  {hashed_password}\")\n",
    "    \n",
    "    cursor.execute('''\n",
    "    INSERT INTO Mahasiswa(\n",
    "        NIM,\n",
    "        Nama,\n",
    "        TanggalLahir,\n",
    "        Alamat,\n",
    "        Password) VALUES (?,?,?,?,?)''', hashed_data)\n",
    "\n",
    "connect.commit()"
   ]
  },
  {
   "cell_type": "code",
   "execution_count": 9,
   "metadata": {},
   "outputs": [],
   "source": [
    "Dosen = [\n",
    "    (121547001, 'Andi Susanto', 'Teknik Informatika', 'andi.susanto@example.com'),\n",
    "    (121547002, 'Dewi Indah', 'Ekonomi Pembangunan', 'dewi.indah@example.com'),\n",
    "    (121547003, 'Rudi Pratama', 'Hukum Tata Negara', 'rudi.pratama@example.com')\n",
    "\n",
    "]\n",
    "\n",
    "for data in Dosen:\n",
    "    cursor.execute('''\n",
    "    INSERT INTO Dosen(\n",
    "        NIDN,\n",
    "        Nama,\n",
    "        Departemen,\n",
    "        Email) VALUES (?,?,?,?)''', data)\n",
    "\n",
    "connect.commit()"
   ]
  },
  {
   "cell_type": "code",
   "execution_count": 10,
   "metadata": {},
   "outputs": [],
   "source": [
    "MataKuliah = [\n",
    "    ('IF101', 'Pemrograman Dasar', '3', 121547001),\n",
    "    ('EK201', 'Ekonomi Mikro', '3', 121547002),\n",
    "    ('HI301', 'Sejarah Indonesia', '3', 121547003),\n",
    "    ('MG401', 'Manajemen Sumber Daya Manusia', '3', 121547001)\n",
    "]\n",
    "\n",
    "for data in MataKuliah:\n",
    "    cursor.execute('''\n",
    "    INSERT INTO MataKuliah(\n",
    "        KodeMK,\n",
    "        NamaMK,\n",
    "        SKS,\n",
    "        NIDN) VALUES (?,?,?,?)''', data)\n",
    "\n",
    "connect.commit()"
   ]
  },
  {
   "cell_type": "code",
   "execution_count": 11,
   "metadata": {},
   "outputs": [
    {
     "data": {
      "text/html": [
       "<div>\n",
       "<style scoped>\n",
       "    .dataframe tbody tr th:only-of-type {\n",
       "        vertical-align: middle;\n",
       "    }\n",
       "\n",
       "    .dataframe tbody tr th {\n",
       "        vertical-align: top;\n",
       "    }\n",
       "\n",
       "    .dataframe thead th {\n",
       "        text-align: right;\n",
       "    }\n",
       "</style>\n",
       "<table border=\"1\" class=\"dataframe\">\n",
       "  <thead>\n",
       "    <tr style=\"text-align: right;\">\n",
       "      <th></th>\n",
       "      <th>NIM</th>\n",
       "      <th>Nama</th>\n",
       "      <th>TanggalLahir</th>\n",
       "      <th>Alamat</th>\n",
       "      <th>Password</th>\n",
       "    </tr>\n",
       "  </thead>\n",
       "  <tbody>\n",
       "    <tr>\n",
       "      <th>0</th>\n",
       "      <td>5220411100</td>\n",
       "      <td>John Doe</td>\n",
       "      <td>2000-05-15</td>\n",
       "      <td>123 Main St</td>\n",
       "      <td>48a6d1c7081661aacc2794b412ae36e596c46d693e3f2f...</td>\n",
       "    </tr>\n",
       "    <tr>\n",
       "      <th>1</th>\n",
       "      <td>5220411101</td>\n",
       "      <td>Jane Smith</td>\n",
       "      <td>1999-10-20</td>\n",
       "      <td>456 Elm St</td>\n",
       "      <td>b633c0326ee0a50a997544c77e5c76ff52eece99418745...</td>\n",
       "    </tr>\n",
       "    <tr>\n",
       "      <th>2</th>\n",
       "      <td>5220411102</td>\n",
       "      <td>Michael Johnson</td>\n",
       "      <td>2001-03-25</td>\n",
       "      <td>789 Oak St</td>\n",
       "      <td>5b26e94f83805b618c1ea796af86dd5134fbf4a842a659...</td>\n",
       "    </tr>\n",
       "    <tr>\n",
       "      <th>3</th>\n",
       "      <td>5220411103</td>\n",
       "      <td>Sarah Lee</td>\n",
       "      <td>2002-08-12</td>\n",
       "      <td>101 Pine St</td>\n",
       "      <td>bac524e7658cbf186db504743a87a7a0631409c617de43...</td>\n",
       "    </tr>\n",
       "    <tr>\n",
       "      <th>4</th>\n",
       "      <td>5220411104</td>\n",
       "      <td>David Brown</td>\n",
       "      <td>2000-12-30</td>\n",
       "      <td>202 Maple St</td>\n",
       "      <td>48a6d1c7081661aacc2794b412ae36e596c46d693e3f2f...</td>\n",
       "    </tr>\n",
       "  </tbody>\n",
       "</table>\n",
       "</div>"
      ],
      "text/plain": [
       "          NIM             Nama TanggalLahir        Alamat  \\\n",
       "0  5220411100         John Doe   2000-05-15   123 Main St   \n",
       "1  5220411101       Jane Smith   1999-10-20    456 Elm St   \n",
       "2  5220411102  Michael Johnson   2001-03-25    789 Oak St   \n",
       "3  5220411103        Sarah Lee   2002-08-12   101 Pine St   \n",
       "4  5220411104      David Brown   2000-12-30  202 Maple St   \n",
       "\n",
       "                                            Password  \n",
       "0  48a6d1c7081661aacc2794b412ae36e596c46d693e3f2f...  \n",
       "1  b633c0326ee0a50a997544c77e5c76ff52eece99418745...  \n",
       "2  5b26e94f83805b618c1ea796af86dd5134fbf4a842a659...  \n",
       "3  bac524e7658cbf186db504743a87a7a0631409c617de43...  \n",
       "4  48a6d1c7081661aacc2794b412ae36e596c46d693e3f2f...  "
      ]
     },
     "execution_count": 11,
     "metadata": {},
     "output_type": "execute_result"
    }
   ],
   "source": [
    "query = 'SELECT * FROM Mahasiswa'\n",
    "\n",
    "data = pd.read_sql_query(query, connect)\n",
    "data"
   ]
  },
  {
   "cell_type": "code",
   "execution_count": 12,
   "metadata": {},
   "outputs": [
    {
     "data": {
      "text/html": [
       "<div>\n",
       "<style scoped>\n",
       "    .dataframe tbody tr th:only-of-type {\n",
       "        vertical-align: middle;\n",
       "    }\n",
       "\n",
       "    .dataframe tbody tr th {\n",
       "        vertical-align: top;\n",
       "    }\n",
       "\n",
       "    .dataframe thead th {\n",
       "        text-align: right;\n",
       "    }\n",
       "</style>\n",
       "<table border=\"1\" class=\"dataframe\">\n",
       "  <thead>\n",
       "    <tr style=\"text-align: right;\">\n",
       "      <th></th>\n",
       "      <th>NIDN</th>\n",
       "      <th>Nama</th>\n",
       "      <th>Departemen</th>\n",
       "      <th>Email</th>\n",
       "    </tr>\n",
       "  </thead>\n",
       "  <tbody>\n",
       "    <tr>\n",
       "      <th>0</th>\n",
       "      <td>121547001</td>\n",
       "      <td>Andi Susanto</td>\n",
       "      <td>Teknik Informatika</td>\n",
       "      <td>andi.susanto@example.com</td>\n",
       "    </tr>\n",
       "    <tr>\n",
       "      <th>1</th>\n",
       "      <td>121547002</td>\n",
       "      <td>Dewi Indah</td>\n",
       "      <td>Ekonomi Pembangunan</td>\n",
       "      <td>dewi.indah@example.com</td>\n",
       "    </tr>\n",
       "    <tr>\n",
       "      <th>2</th>\n",
       "      <td>121547003</td>\n",
       "      <td>Rudi Pratama</td>\n",
       "      <td>Hukum Tata Negara</td>\n",
       "      <td>rudi.pratama@example.com</td>\n",
       "    </tr>\n",
       "  </tbody>\n",
       "</table>\n",
       "</div>"
      ],
      "text/plain": [
       "        NIDN          Nama           Departemen                     Email\n",
       "0  121547001  Andi Susanto   Teknik Informatika  andi.susanto@example.com\n",
       "1  121547002    Dewi Indah  Ekonomi Pembangunan    dewi.indah@example.com\n",
       "2  121547003  Rudi Pratama    Hukum Tata Negara  rudi.pratama@example.com"
      ]
     },
     "execution_count": 12,
     "metadata": {},
     "output_type": "execute_result"
    }
   ],
   "source": [
    "query = 'SELECT * FROM Dosen'\n",
    "\n",
    "data = pd.read_sql_query(query, connect)\n",
    "data"
   ]
  },
  {
   "cell_type": "code",
   "execution_count": 13,
   "metadata": {},
   "outputs": [
    {
     "data": {
      "text/html": [
       "<div>\n",
       "<style scoped>\n",
       "    .dataframe tbody tr th:only-of-type {\n",
       "        vertical-align: middle;\n",
       "    }\n",
       "\n",
       "    .dataframe tbody tr th {\n",
       "        vertical-align: top;\n",
       "    }\n",
       "\n",
       "    .dataframe thead th {\n",
       "        text-align: right;\n",
       "    }\n",
       "</style>\n",
       "<table border=\"1\" class=\"dataframe\">\n",
       "  <thead>\n",
       "    <tr style=\"text-align: right;\">\n",
       "      <th></th>\n",
       "      <th>KodeMK</th>\n",
       "      <th>NamaMK</th>\n",
       "      <th>SKS</th>\n",
       "      <th>NIDN</th>\n",
       "    </tr>\n",
       "  </thead>\n",
       "  <tbody>\n",
       "    <tr>\n",
       "      <th>0</th>\n",
       "      <td>IF101</td>\n",
       "      <td>Pemrograman Dasar</td>\n",
       "      <td>3</td>\n",
       "      <td>121547001</td>\n",
       "    </tr>\n",
       "    <tr>\n",
       "      <th>1</th>\n",
       "      <td>EK201</td>\n",
       "      <td>Ekonomi Mikro</td>\n",
       "      <td>3</td>\n",
       "      <td>121547002</td>\n",
       "    </tr>\n",
       "    <tr>\n",
       "      <th>2</th>\n",
       "      <td>HI301</td>\n",
       "      <td>Sejarah Indonesia</td>\n",
       "      <td>3</td>\n",
       "      <td>121547003</td>\n",
       "    </tr>\n",
       "    <tr>\n",
       "      <th>3</th>\n",
       "      <td>MG401</td>\n",
       "      <td>Manajemen Sumber Daya Manusia</td>\n",
       "      <td>3</td>\n",
       "      <td>121547001</td>\n",
       "    </tr>\n",
       "  </tbody>\n",
       "</table>\n",
       "</div>"
      ],
      "text/plain": [
       "  KodeMK                         NamaMK SKS       NIDN\n",
       "0  IF101              Pemrograman Dasar   3  121547001\n",
       "1  EK201                  Ekonomi Mikro   3  121547002\n",
       "2  HI301              Sejarah Indonesia   3  121547003\n",
       "3  MG401  Manajemen Sumber Daya Manusia   3  121547001"
      ]
     },
     "execution_count": 13,
     "metadata": {},
     "output_type": "execute_result"
    }
   ],
   "source": [
    "query = 'SELECT * FROM MataKuliah'\n",
    "\n",
    "data = pd.read_sql_query(query, connect)\n",
    "data"
   ]
  },
  {
   "cell_type": "code",
   "execution_count": null,
   "metadata": {},
   "outputs": [],
   "source": []
  }
 ],
 "metadata": {
  "kernelspec": {
   "display_name": "Python 3",
   "language": "python",
   "name": "python3"
  },
  "language_info": {
   "codemirror_mode": {
    "name": "ipython",
    "version": 3
   },
   "file_extension": ".py",
   "mimetype": "text/x-python",
   "name": "python",
   "nbconvert_exporter": "python",
   "pygments_lexer": "ipython3",
   "version": "3.10.13"
  }
 },
 "nbformat": 4,
 "nbformat_minor": 2
}
