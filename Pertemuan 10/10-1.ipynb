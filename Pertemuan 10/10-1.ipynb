{
 "cells": [
  {
   "cell_type": "code",
   "execution_count": 10,
   "metadata": {},
   "outputs": [],
   "source": [
    "k = [\n",
    "    0x428a2f98, 0x71374491, 0xb5c0fbcf, 0xe9b5dba5, 0x3956c25b, 0x59f111f1, 0x923f82a4, 0xab1c5ed5,\n",
    "    0xd807aa98, 0x12835b01, 0x243185be, 0x550c7dc3, 0x72be5d74, 0x80deb1fe, 0x9bdc06a7, 0xc19bf174,\n",
    "    0xe49b69c1, 0xefbe4786, 0x0fc19dc6, 0x240ca1cc, 0x2de92c6f, 0x4a7484aa, 0x5cb0a9dc, 0x76f988da,\n",
    "    0x983e5152, 0xa831c66d, 0xb00327c8, 0xbf597fc7, 0xc6e00bf3, 0xd5a79147, 0x06ca6351, 0x14292967,\n",
    "    0x27b70a85, 0x2e1b2138, 0x4d2c6dfc, 0x53380d13, 0x650a7354, 0x766a0abb, 0x81c2c92e, 0x92722c85,\n",
    "    0xa2bfe8a1, 0xa81a664b, 0xc24b8b70, 0xc76c51a3, 0xd192e819, 0xd6990624, 0xf40e3585, 0x106aa070,\n",
    "    0x19a4c116, 0x1e376c08, 0x2748774c, 0x34b0bcb5, 0x391c0cb3, 0x4ed8aa4a, 0x5b9cca4f, 0x682e6ff3,\n",
    "    0x748f82ee, 0x78a5636f, 0x84c87814, 0x8cc70208, 0x90befffa, 0xa4506ceb, 0xbef9a3f7, 0xc67178f2\n",
    "]"
   ]
  },
  {
   "cell_type": "code",
   "execution_count": 11,
   "metadata": {},
   "outputs": [],
   "source": [
    "import struct"
   ]
  },
  {
   "cell_type": "code",
   "execution_count": 12,
   "metadata": {},
   "outputs": [],
   "source": [
    "def intToendian(num):\n",
    "    return num.to_bytes(4, byteorder='little')"
   ]
  },
  {
   "cell_type": "code",
   "execution_count": 13,
   "metadata": {},
   "outputs": [],
   "source": [
    "def endian_length(length):\n",
    "    return length.to_bytes(8, byteorder='little')"
   ]
  },
  {
   "cell_type": "code",
   "execution_count": 14,
   "metadata": {},
   "outputs": [],
   "source": [
    "def left_rotate(x,y):\n",
    "    return((x<<y) | (x>>(32-y))) & 0xFFFFFFFF"
   ]
  },
  {
   "cell_type": "code",
   "execution_count": 15,
   "metadata": {},
   "outputs": [],
   "source": [
    "h0=0x6a09e667\n",
    "h1=0xbb67ae85\n",
    "h2=0x3c6ef372\n",
    "h3=0xa54ff53a\n",
    "h4=0x510e527f\n",
    "h5=0x9b05688c\n",
    "h6=0x1f83d9ab\n",
    "h7=0x5be0cd19"
   ]
  },
  {
   "cell_type": "code",
   "execution_count": 16,
   "metadata": {},
   "outputs": [],
   "source": [
    "a=h0\n",
    "b=h1\n",
    "c=h2\n",
    "d=h3\n",
    "e=h4\n",
    "f=h5\n",
    "g=h6\n",
    "h=h7"
   ]
  },
  {
   "cell_type": "code",
   "execution_count": 29,
   "metadata": {},
   "outputs": [],
   "source": [
    "def generate_SHA256(message):\n",
    "    real_width = len(message)\n",
    "    message += b'\\x80'\n",
    "    while len(message) % 64 != 56:\n",
    "        message += b'\\x80'\n",
    "    message += endian_length(real_width * 8)\n",
    "    a=h0\n",
    "    b=h1\n",
    "    c=h2\n",
    "    d=h3\n",
    "    e=h4\n",
    "    f=h5\n",
    "    g=h6\n",
    "    h=h7\n",
    "\n",
    "    for i in range(0, len(message), 64):\n",
    "        chunk = message[i:i+64]\n",
    "        w = [0] * 64\n",
    "        for j in range(16):\n",
    "            w[j] = struct.unpack('<I', chunk[j*4:j*4+4])[0]\n",
    "        for j in range(16, 64):\n",
    "            s0      = left_rotate(w[j-15], 7) ^ left_rotate(w[j-15], 18) ^ (w[j-15] >> 18)\n",
    "            s1      = left_rotate(w[j-2], 17) ^ left_rotate(w[j-2], 19) ^ (w[j-2] >> 10)\n",
    "            w[j]    = (w[j-16] + s0 + w[j-7] + s1) & 0xFFFFFFFF\n",
    "        a_temp = a\n",
    "        b_temp = b\n",
    "        c_temp = c\n",
    "        d_temp = d\n",
    "        e_temp = e\n",
    "        f_temp = f\n",
    "        g_temp = g\n",
    "        h_temp = h\n",
    "\n",
    "        for j in range(64):\n",
    "            S1      = left_rotate(e_temp, 6) ^ left_rotate(e_temp, 11) ^ left_rotate(e_temp, 25)\n",
    "            ch      = (e_temp + f_temp) ^ (-e_temp & g_temp)\n",
    "            temp1   = (h_temp + S1 + ch + k[j] + w[j]) & 0xFFFFFFFF\n",
    "\n",
    "            S0      = left_rotate(a_temp, 2) ^ left_rotate(a_temp, 13) ^ left_rotate(a_temp, 22)\n",
    "            maj     = (a_temp & b_temp) ^ (a_temp & c_temp) ^ (b_temp & c_temp)\n",
    "            temp2   = (S0 + maj) & 0xFFFFFFFF\n",
    "\n",
    "            h_temp = g_temp\n",
    "            g_temp = f_temp\n",
    "            f_temp = e_temp\n",
    "            e_temp = (d_temp + temp1) & 0xFFFFFFFF\n",
    "            d_temp = c_temp\n",
    "            c_temp = b_temp\n",
    "            b_temp = a_temp\n",
    "\n",
    "            a_temp = (temp1 + temp2) & 0xFFFFFFFF\n",
    "        \n",
    "        a = (a + a_temp) & 0xFFFFFFFF\n",
    "        b = (b + b_temp) & 0xFFFFFFFF\n",
    "        c = (c + c_temp) & 0xFFFFFFFF\n",
    "        d = (d + d_temp) & 0xFFFFFFFF\n",
    "        e = (e + e_temp) & 0xFFFFFFFF\n",
    "        f = (f + f_temp) & 0xFFFFFFFF\n",
    "        g = (g + g_temp) & 0xFFFFFFFF\n",
    "        h = (h + h_temp) & 0xFFFFFFFF\n",
    "\n",
    "    hash_result = (a << 224) | (b << 192) | (c << 160) | (d << 128) | (e << 96) | (f << 64) | (g << 32) | h\n",
    "\n",
    "    return '{:08x}'.format(hash_result)"
   ]
  },
  {
   "cell_type": "code",
   "execution_count": 30,
   "metadata": {},
   "outputs": [
    {
     "name": "stdout",
     "output_type": "stream",
     "text": [
      "Text         : UNIVERSITAS TEKNOLOGI YOGYAKARTA\n",
      "Convert      : ff6937fa15140efc3f8386dc34a29018a3da20285565ad7d2fbd509f91fba088\n"
     ]
    }
   ],
   "source": [
    "def main():\n",
    "    message = b'UNIVERSITAS TEKNOLOGI YOGYAKARTA'\n",
    "\n",
    "    hash_result = generate_SHA256(message)\n",
    "    print('Text         :', message.decode('utf-8'))\n",
    "    print('Convert      :', hash_result)\n",
    "\n",
    "if __name__ == '__main__':\n",
    "    main()"
   ]
  }
 ],
 "metadata": {
  "kernelspec": {
   "display_name": "Python 3",
   "language": "python",
   "name": "python3"
  },
  "language_info": {
   "codemirror_mode": {
    "name": "ipython",
    "version": 3
   },
   "file_extension": ".py",
   "mimetype": "text/x-python",
   "name": "python",
   "nbconvert_exporter": "python",
   "pygments_lexer": "ipython3",
   "version": "3.10.13"
  }
 },
 "nbformat": 4,
 "nbformat_minor": 2
}
