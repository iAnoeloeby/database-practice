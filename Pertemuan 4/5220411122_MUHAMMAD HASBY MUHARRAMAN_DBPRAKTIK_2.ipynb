{
 "cells": [
  {
   "cell_type": "markdown",
   "metadata": {},
   "source": [
    "Relation"
   ]
  },
  {
   "cell_type": "code",
   "execution_count": 1,
   "metadata": {},
   "outputs": [],
   "source": [
    "import sqlite3"
   ]
  },
  {
   "cell_type": "code",
   "execution_count": 2,
   "metadata": {},
   "outputs": [],
   "source": [
    "connect = sqlite3.connect('campusdata.db')\n",
    "cursor = connect.cursor()"
   ]
  },
  {
   "cell_type": "code",
   "execution_count": 3,
   "metadata": {},
   "outputs": [
    {
     "data": {
      "text/plain": [
       "<sqlite3.Cursor at 0x7f16749e4ec0>"
      ]
     },
     "execution_count": 3,
     "metadata": {},
     "output_type": "execute_result"
    }
   ],
   "source": [
    "cursor.execute('''\n",
    "    CREATE TABLE IF NOT EXISTS Relasi_Mahasiswa(\n",
    "        ID_Mahasiswa INT PRIMARY KEY,\n",
    "        Nama TEXT,\n",
    "        Jurusan TEXT,\n",
    "        Tanggal_Lahir DATE\n",
    "    )\n",
    "''')"
   ]
  },
  {
   "cell_type": "code",
   "execution_count": 4,
   "metadata": {},
   "outputs": [
    {
     "data": {
      "text/plain": [
       "<sqlite3.Cursor at 0x7f16749e4ec0>"
      ]
     },
     "execution_count": 4,
     "metadata": {},
     "output_type": "execute_result"
    }
   ],
   "source": [
    "cursor.execute('''\n",
    "    CREATE TABLE IF NOT EXISTS Relasi_MataKuliah(\n",
    "        Kode_MataKuliah TEXT PRIMARY KEY,\n",
    "        Nama_MataKuliah TEXT,\n",
    "        SKS INT\n",
    "    )\n",
    "''')"
   ]
  },
  {
   "cell_type": "code",
   "execution_count": 5,
   "metadata": {},
   "outputs": [
    {
     "data": {
      "text/plain": [
       "<sqlite3.Cursor at 0x7f16749e4ec0>"
      ]
     },
     "execution_count": 5,
     "metadata": {},
     "output_type": "execute_result"
    }
   ],
   "source": [
    "cursor.execute('''\n",
    "    CREATE TABLE IF NOT EXISTS Relasi_Nilai(\n",
    "        ID_Mahasiswa INT,\n",
    "        Kode_MataKuliah TEXT,\n",
    "        Nilai INT,\n",
    "        PRIMARY KEY(ID_Mahasiswa, Kode_MataKuliah),\n",
    "        FOREIGN KEY(ID_Mahasiswa) REFERENCES Relasi_Mahasiswa(ID_Mahasiswa),\n",
    "        FOREIGN KEY(Kode_MataKuliah) REFERENCES Relasi_MataKuliah(Kode_MataKuliah)\n",
    "    )\n",
    "''')"
   ]
  },
  {
   "cell_type": "code",
   "execution_count": 8,
   "metadata": {},
   "outputs": [
    {
     "ename": "ValueError",
     "evalue": "parameters are of unsupported type",
     "output_type": "error",
     "traceback": [
      "\u001b[0;31m---------------------------------------------------------------------------\u001b[0m",
      "\u001b[0;31mValueError\u001b[0m                                Traceback (most recent call last)",
      "Cell \u001b[0;32mIn[8], line 8\u001b[0m\n\u001b[1;32m      1\u001b[0m Mahasiswa \u001b[38;5;241m=\u001b[39m [\n\u001b[1;32m      2\u001b[0m     (\u001b[38;5;241m1\u001b[39m, \u001b[38;5;124m'\u001b[39m\u001b[38;5;124mAdi\u001b[39m\u001b[38;5;124m'\u001b[39m, \u001b[38;5;124m'\u001b[39m\u001b[38;5;124mInformatika\u001b[39m\u001b[38;5;124m'\u001b[39m, \u001b[38;5;124m'\u001b[39m\u001b[38;5;124m2002-02-02\u001b[39m\u001b[38;5;124m'\u001b[39m),\n\u001b[1;32m      3\u001b[0m     (\u001b[38;5;241m2\u001b[39m, \u001b[38;5;124m'\u001b[39m\u001b[38;5;124mAli\u001b[39m\u001b[38;5;124m'\u001b[39m, \u001b[38;5;124m'\u001b[39m\u001b[38;5;124mInformatika\u001b[39m\u001b[38;5;124m'\u001b[39m, \u001b[38;5;124m'\u001b[39m\u001b[38;5;124m2002-02-02\u001b[39m\u001b[38;5;124m'\u001b[39m),\n\u001b[1;32m      4\u001b[0m     (\u001b[38;5;241m3\u001b[39m, \u001b[38;5;124m'\u001b[39m\u001b[38;5;124mAni\u001b[39m\u001b[38;5;124m'\u001b[39m, \u001b[38;5;124m'\u001b[39m\u001b[38;5;124mInformatika\u001b[39m\u001b[38;5;124m'\u001b[39m, \u001b[38;5;124m'\u001b[39m\u001b[38;5;124m2002-02-02\u001b[39m\u001b[38;5;124m'\u001b[39m),\n\u001b[1;32m      5\u001b[0m ]\n\u001b[1;32m      7\u001b[0m \u001b[38;5;28;01mfor\u001b[39;00m data \u001b[38;5;129;01min\u001b[39;00m Mahasiswa:\n\u001b[0;32m----> 8\u001b[0m     \u001b[43mcursor\u001b[49m\u001b[38;5;241;43m.\u001b[39;49m\u001b[43mexecutemany\u001b[49m\u001b[43m(\u001b[49m\u001b[38;5;124;43m'''\u001b[39;49m\n\u001b[1;32m      9\u001b[0m \u001b[38;5;124;43m    INSERT INTO Relasi_Mahasiswa(\u001b[39;49m\n\u001b[1;32m     10\u001b[0m \u001b[38;5;124;43m        ID_Mahasiswa,\u001b[39;49m\n\u001b[1;32m     11\u001b[0m \u001b[38;5;124;43m        Nama,\u001b[39;49m\n\u001b[1;32m     12\u001b[0m \u001b[38;5;124;43m        Jurusan,\u001b[39;49m\n\u001b[1;32m     13\u001b[0m \u001b[38;5;124;43m        Tanggal_Lahir\u001b[39;49m\n\u001b[1;32m     14\u001b[0m \u001b[38;5;124;43m    ) VALUES (?,?,?,?)\u001b[39;49m\u001b[38;5;124;43m'''\u001b[39;49m\u001b[43m,\u001b[49m\u001b[43m \u001b[49m\u001b[43mdata\u001b[49m\u001b[43m)\u001b[49m\n",
      "\u001b[0;31mValueError\u001b[0m: parameters are of unsupported type"
     ]
    }
   ],
   "source": [
    "Mahasiswa = [\n",
    "    (1, 'Adi', 'Informatika', '2002-02-02'),\n",
    "    (2, 'Ali', 'Informatika', '2002-02-02'),\n",
    "    (3, 'Ani', 'Informatika', '2002-02-02'),\n",
    "]\n",
    "\n",
    "for data in Mahasiswa:\n",
    "    cursor.executemany('''\n",
    "    INSERT INTO Relasi_Mahasiswa(\n",
    "        ID_Mahasiswa,\n",
    "        Nama,\n",
    "        Jurusan,\n",
    "        Tanggal_Lahir\n",
    "    ) VALUES (?,?,?,?)''', data)"
   ]
  }
 ],
 "metadata": {
  "kernelspec": {
   "display_name": "Python 3",
   "language": "python",
   "name": "python3"
  },
  "language_info": {
   "codemirror_mode": {
    "name": "ipython",
    "version": 3
   },
   "file_extension": ".py",
   "mimetype": "text/x-python",
   "name": "python",
   "nbconvert_exporter": "python",
   "pygments_lexer": "ipython3",
   "version": "3.10.13"
  }
 },
 "nbformat": 4,
 "nbformat_minor": 2
}
