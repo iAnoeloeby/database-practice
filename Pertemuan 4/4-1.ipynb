{
 "cells": [
  {
   "cell_type": "code",
   "execution_count": 1,
   "metadata": {},
   "outputs": [],
   "source": [
    "import sqlite3"
   ]
  },
  {
   "cell_type": "code",
   "execution_count": 2,
   "metadata": {},
   "outputs": [],
   "source": [
    "connect = sqlite3.connect('mahasiswa.db')\n",
    "cursor = connect.cursor()"
   ]
  },
  {
   "cell_type": "code",
   "execution_count": 3,
   "metadata": {},
   "outputs": [
    {
     "data": {
      "text/plain": [
       "<sqlite3.Cursor at 0x7f196448cec0>"
      ]
     },
     "execution_count": 3,
     "metadata": {},
     "output_type": "execute_result"
    }
   ],
   "source": [
    "cursor.execute('''\n",
    "    CREATE TABLE IF NOT EXISTS Mahasiswa(\n",
    "        ID_Mahasiswa INT PRIMARY KEY,\n",
    "        Nama TEXT,\n",
    "        Jurusan TEXT,\n",
    "        Tanggal_Lahir DATE,\n",
    "        Alamat TEXT,\n",
    "        No_Telp TEXT\n",
    "    )\n",
    "''')"
   ]
  },
  {
   "cell_type": "code",
   "execution_count": 4,
   "metadata": {},
   "outputs": [
    {
     "data": {
      "text/plain": [
       "<sqlite3.Cursor at 0x7f196448cec0>"
      ]
     },
     "execution_count": 4,
     "metadata": {},
     "output_type": "execute_result"
    }
   ],
   "source": [
    "cursor.execute('''\n",
    "    CREATE TABLE IF NOT EXISTS MataKuliah(\n",
    "        Kode_MataKuliah TEXT PRIMARY KEY,\n",
    "        Nama_MataKuliah TEXT,\n",
    "        SKS INT\n",
    "    )\n",
    "''')"
   ]
  },
  {
   "cell_type": "code",
   "execution_count": 5,
   "metadata": {},
   "outputs": [
    {
     "data": {
      "text/plain": [
       "<sqlite3.Cursor at 0x7f196448cec0>"
      ]
     },
     "execution_count": 5,
     "metadata": {},
     "output_type": "execute_result"
    }
   ],
   "source": [
    "cursor.execute('''\n",
    "    CREATE TABLE IF NOT EXISTS Dosen(\n",
    "        ID_Dosen INT PRIMARY KEY,\n",
    "        Nama_Dosen TEXT,\n",
    "        Bidang_Ahli TEXT\n",
    "    )\n",
    "''')"
   ]
  },
  {
   "cell_type": "code",
   "execution_count": 6,
   "metadata": {},
   "outputs": [
    {
     "name": "stderr",
     "output_type": "stream",
     "text": [
      "/tmp/ipykernel_27311/4080736814.py:1: DeprecationWarning: \n",
      "Pyarrow will become a required dependency of pandas in the next major release of pandas (pandas 3.0),\n",
      "(to allow more performant data types, such as the Arrow string type, and better interoperability with other libraries)\n",
      "but was not found to be installed on your system.\n",
      "If this would cause problems for you,\n",
      "please provide us feedback at https://github.com/pandas-dev/pandas/issues/54466\n",
      "        \n",
      "  import pandas as pd\n"
     ]
    }
   ],
   "source": [
    "import pandas as pd"
   ]
  },
  {
   "cell_type": "markdown",
   "metadata": {},
   "source": [
    "######## Show data Mahasiswa"
   ]
  },
  {
   "cell_type": "code",
   "execution_count": 7,
   "metadata": {},
   "outputs": [
    {
     "data": {
      "text/html": [
       "<div>\n",
       "<style scoped>\n",
       "    .dataframe tbody tr th:only-of-type {\n",
       "        vertical-align: middle;\n",
       "    }\n",
       "\n",
       "    .dataframe tbody tr th {\n",
       "        vertical-align: top;\n",
       "    }\n",
       "\n",
       "    .dataframe thead th {\n",
       "        text-align: right;\n",
       "    }\n",
       "</style>\n",
       "<table border=\"1\" class=\"dataframe\">\n",
       "  <thead>\n",
       "    <tr style=\"text-align: right;\">\n",
       "      <th></th>\n",
       "      <th>ID_Mahasiswa</th>\n",
       "      <th>Nama</th>\n",
       "      <th>Jurusan</th>\n",
       "      <th>Tanggal_Lahir</th>\n",
       "      <th>Alamat</th>\n",
       "      <th>No_Telp</th>\n",
       "    </tr>\n",
       "  </thead>\n",
       "  <tbody>\n",
       "  </tbody>\n",
       "</table>\n",
       "</div>"
      ],
      "text/plain": [
       "Empty DataFrame\n",
       "Columns: [ID_Mahasiswa, Nama, Jurusan, Tanggal_Lahir, Alamat, No_Telp]\n",
       "Index: []"
      ]
     },
     "execution_count": 7,
     "metadata": {},
     "output_type": "execute_result"
    }
   ],
   "source": [
    "query = 'SELECT * FROM Mahasiswa'\n",
    "\n",
    "data = pd.read_sql_query(query, connect)\n",
    "data"
   ]
  },
  {
   "cell_type": "code",
   "execution_count": 8,
   "metadata": {},
   "outputs": [],
   "source": [
    "Mahasiswa = [\n",
    "    (1, 'Adi', 'Informatika', '2022-02-02', 'Jl. Apel', '08888888'),\n",
    "    (2, 'Ada', 'Bidan', '2012-12-12', 'Jl. Anggur Merah', '08121212'),\n",
    "    (3, 'Ali', 'Sospol', '2018-08-08', 'Jl. Kampang', '08080808'),\n",
    "]\n",
    "\n",
    "for data in Mahasiswa:\n",
    "    cursor.execute('''\n",
    "    INSERT INTO Mahasiswa(\n",
    "        ID_Mahasiswa,\n",
    "        Nama,\n",
    "        Jurusan,\n",
    "        Tanggal_Lahir,\n",
    "        Alamat,\n",
    "        No_Telp\n",
    "    ) VALUES (?,?,?,?,?,?)''', data)\n",
    "\n",
    "connect.commit()\n",
    "connect.close()"
   ]
  },
  {
   "cell_type": "code",
   "execution_count": 9,
   "metadata": {},
   "outputs": [
    {
     "data": {
      "text/html": [
       "<div>\n",
       "<style scoped>\n",
       "    .dataframe tbody tr th:only-of-type {\n",
       "        vertical-align: middle;\n",
       "    }\n",
       "\n",
       "    .dataframe tbody tr th {\n",
       "        vertical-align: top;\n",
       "    }\n",
       "\n",
       "    .dataframe thead th {\n",
       "        text-align: right;\n",
       "    }\n",
       "</style>\n",
       "<table border=\"1\" class=\"dataframe\">\n",
       "  <thead>\n",
       "    <tr style=\"text-align: right;\">\n",
       "      <th></th>\n",
       "      <th>ID_Mahasiswa</th>\n",
       "      <th>Nama</th>\n",
       "      <th>Jurusan</th>\n",
       "      <th>Tanggal_Lahir</th>\n",
       "      <th>Alamat</th>\n",
       "      <th>No_Telp</th>\n",
       "    </tr>\n",
       "  </thead>\n",
       "  <tbody>\n",
       "    <tr>\n",
       "      <th>0</th>\n",
       "      <td>1</td>\n",
       "      <td>Adi</td>\n",
       "      <td>Informatika</td>\n",
       "      <td>2022-02-02</td>\n",
       "      <td>Jl. Apel</td>\n",
       "      <td>08888888</td>\n",
       "    </tr>\n",
       "    <tr>\n",
       "      <th>1</th>\n",
       "      <td>2</td>\n",
       "      <td>Ada</td>\n",
       "      <td>Bidan</td>\n",
       "      <td>2012-12-12</td>\n",
       "      <td>Jl. Anggur Merah</td>\n",
       "      <td>08121212</td>\n",
       "    </tr>\n",
       "    <tr>\n",
       "      <th>2</th>\n",
       "      <td>3</td>\n",
       "      <td>Ali</td>\n",
       "      <td>Sospol</td>\n",
       "      <td>2018-08-08</td>\n",
       "      <td>Jl. Kampang</td>\n",
       "      <td>08080808</td>\n",
       "    </tr>\n",
       "  </tbody>\n",
       "</table>\n",
       "</div>"
      ],
      "text/plain": [
       "   ID_Mahasiswa Nama      Jurusan Tanggal_Lahir            Alamat   No_Telp\n",
       "0             1  Adi  Informatika    2022-02-02          Jl. Apel  08888888\n",
       "1             2  Ada        Bidan    2012-12-12  Jl. Anggur Merah  08121212\n",
       "2             3  Ali       Sospol    2018-08-08       Jl. Kampang  08080808"
      ]
     },
     "execution_count": 9,
     "metadata": {},
     "output_type": "execute_result"
    }
   ],
   "source": [
    "query = 'SELECT * FROM Mahasiswa'\n",
    "\n",
    "data = pd.read_sql_query(query, connect)\n",
    "data"
   ]
  },
  {
   "cell_type": "markdown",
   "metadata": {},
   "source": [
    "######### Show Data mata Kuliah"
   ]
  },
  {
   "cell_type": "code",
   "execution_count": 10,
   "metadata": {},
   "outputs": [
    {
     "data": {
      "text/html": [
       "<div>\n",
       "<style scoped>\n",
       "    .dataframe tbody tr th:only-of-type {\n",
       "        vertical-align: middle;\n",
       "    }\n",
       "\n",
       "    .dataframe tbody tr th {\n",
       "        vertical-align: top;\n",
       "    }\n",
       "\n",
       "    .dataframe thead th {\n",
       "        text-align: right;\n",
       "    }\n",
       "</style>\n",
       "<table border=\"1\" class=\"dataframe\">\n",
       "  <thead>\n",
       "    <tr style=\"text-align: right;\">\n",
       "      <th></th>\n",
       "      <th>Kode_MataKuliah</th>\n",
       "      <th>Nama_MataKuliah</th>\n",
       "      <th>SKS</th>\n",
       "    </tr>\n",
       "  </thead>\n",
       "  <tbody>\n",
       "  </tbody>\n",
       "</table>\n",
       "</div>"
      ],
      "text/plain": [
       "Empty DataFrame\n",
       "Columns: [Kode_MataKuliah, Nama_MataKuliah, SKS]\n",
       "Index: []"
      ]
     },
     "execution_count": 10,
     "metadata": {},
     "output_type": "execute_result"
    }
   ],
   "source": [
    "query = 'SELECT * FROM MataKuliah'\n",
    "\n",
    "data = pd.read_sql_query(query, connect)\n",
    "data"
   ]
  },
  {
   "cell_type": "code",
   "execution_count": 11,
   "metadata": {},
   "outputs": [],
   "source": [
    "cursor = connect.cursor()\n",
    "\n",
    "MataKuliah = [\n",
    "    ('IF-200-21', 'Bahasa & Automata', 2),\n",
    "    ('IF-201-21', 'Kalkulus', 23),\n",
    "    ('IF-202-21', 'Struktur Data Praktik', 4)\n",
    "]\n",
    "\n",
    "for data in MataKuliah:\n",
    "    cursor.execute('''\n",
    "    INSERT INTO MataKuliah(\n",
    "        Kode_MataKuliah,\n",
    "        Nama_MataKuliah,\n",
    "        SKS\n",
    "    ) VALUES (?,?,?)''', data)\n",
    "\n",
    "connect.commit()\n",
    "connect.close()"
   ]
  },
  {
   "cell_type": "code",
   "execution_count": 12,
   "metadata": {},
   "outputs": [
    {
     "data": {
      "text/html": [
       "<div>\n",
       "<style scoped>\n",
       "    .dataframe tbody tr th:only-of-type {\n",
       "        vertical-align: middle;\n",
       "    }\n",
       "\n",
       "    .dataframe tbody tr th {\n",
       "        vertical-align: top;\n",
       "    }\n",
       "\n",
       "    .dataframe thead th {\n",
       "        text-align: right;\n",
       "    }\n",
       "</style>\n",
       "<table border=\"1\" class=\"dataframe\">\n",
       "  <thead>\n",
       "    <tr style=\"text-align: right;\">\n",
       "      <th></th>\n",
       "      <th>Kode_MataKuliah</th>\n",
       "      <th>Nama_MataKuliah</th>\n",
       "      <th>SKS</th>\n",
       "    </tr>\n",
       "  </thead>\n",
       "  <tbody>\n",
       "    <tr>\n",
       "      <th>0</th>\n",
       "      <td>IF-200-21</td>\n",
       "      <td>Bahasa &amp; Automata</td>\n",
       "      <td>2</td>\n",
       "    </tr>\n",
       "    <tr>\n",
       "      <th>1</th>\n",
       "      <td>IF-201-21</td>\n",
       "      <td>Kalkulus</td>\n",
       "      <td>23</td>\n",
       "    </tr>\n",
       "    <tr>\n",
       "      <th>2</th>\n",
       "      <td>IF-202-21</td>\n",
       "      <td>Struktur Data Praktik</td>\n",
       "      <td>4</td>\n",
       "    </tr>\n",
       "  </tbody>\n",
       "</table>\n",
       "</div>"
      ],
      "text/plain": [
       "  Kode_MataKuliah        Nama_MataKuliah  SKS\n",
       "0       IF-200-21      Bahasa & Automata    2\n",
       "1       IF-201-21               Kalkulus   23\n",
       "2       IF-202-21  Struktur Data Praktik    4"
      ]
     },
     "execution_count": 12,
     "metadata": {},
     "output_type": "execute_result"
    }
   ],
   "source": [
    "query = 'SELECT * FROM MataKuliah'\n",
    "\n",
    "data = pd.read_sql_query(query, connect)\n",
    "data"
   ]
  },
  {
   "cell_type": "markdown",
   "metadata": {},
   "source": [
    "######### Show Data mata Kuliah"
   ]
  },
  {
   "cell_type": "code",
   "execution_count": 13,
   "metadata": {},
   "outputs": [
    {
     "data": {
      "text/html": [
       "<div>\n",
       "<style scoped>\n",
       "    .dataframe tbody tr th:only-of-type {\n",
       "        vertical-align: middle;\n",
       "    }\n",
       "\n",
       "    .dataframe tbody tr th {\n",
       "        vertical-align: top;\n",
       "    }\n",
       "\n",
       "    .dataframe thead th {\n",
       "        text-align: right;\n",
       "    }\n",
       "</style>\n",
       "<table border=\"1\" class=\"dataframe\">\n",
       "  <thead>\n",
       "    <tr style=\"text-align: right;\">\n",
       "      <th></th>\n",
       "      <th>ID_Dosen</th>\n",
       "      <th>Nama_Dosen</th>\n",
       "      <th>Bidang_Ahli</th>\n",
       "    </tr>\n",
       "  </thead>\n",
       "  <tbody>\n",
       "  </tbody>\n",
       "</table>\n",
       "</div>"
      ],
      "text/plain": [
       "Empty DataFrame\n",
       "Columns: [ID_Dosen, Nama_Dosen, Bidang_Ahli]\n",
       "Index: []"
      ]
     },
     "execution_count": 13,
     "metadata": {},
     "output_type": "execute_result"
    }
   ],
   "source": [
    "query = 'SELECT * FROM Dosen'\n",
    "\n",
    "data = pd.read_sql_query(query, connect)\n",
    "data"
   ]
  },
  {
   "cell_type": "code",
   "execution_count": 14,
   "metadata": {},
   "outputs": [],
   "source": [
    "cursor = connect.cursor()\n",
    "\n",
    "Dosen = [\n",
    "    (1, 'Ledy Elsera Astrianty', 'Teori'),\n",
    "    (2, 'Selfi Artika', 'Teori'),\n",
    "    (3, 'Dyah Mukarromah', 'Teori')\n",
    "]\n",
    "\n",
    "for data in Dosen:\n",
    "    cursor.execute('''\n",
    "        INSERT INTO Dosen(\n",
    "            ID_Dosen,\n",
    "            Nama_Dosen,\n",
    "            Bidang_Ahli\n",
    "        ) VALUES (?,?,?)''', data\n",
    "    )\n",
    "\n",
    "connect.commit()\n",
    "connect.close()"
   ]
  },
  {
   "cell_type": "code",
   "execution_count": 15,
   "metadata": {},
   "outputs": [
    {
     "data": {
      "text/html": [
       "<div>\n",
       "<style scoped>\n",
       "    .dataframe tbody tr th:only-of-type {\n",
       "        vertical-align: middle;\n",
       "    }\n",
       "\n",
       "    .dataframe tbody tr th {\n",
       "        vertical-align: top;\n",
       "    }\n",
       "\n",
       "    .dataframe thead th {\n",
       "        text-align: right;\n",
       "    }\n",
       "</style>\n",
       "<table border=\"1\" class=\"dataframe\">\n",
       "  <thead>\n",
       "    <tr style=\"text-align: right;\">\n",
       "      <th></th>\n",
       "      <th>ID_Dosen</th>\n",
       "      <th>Nama_Dosen</th>\n",
       "      <th>Bidang_Ahli</th>\n",
       "    </tr>\n",
       "  </thead>\n",
       "  <tbody>\n",
       "    <tr>\n",
       "      <th>0</th>\n",
       "      <td>1</td>\n",
       "      <td>Ledy Elsera Astrianty</td>\n",
       "      <td>Teori</td>\n",
       "    </tr>\n",
       "    <tr>\n",
       "      <th>1</th>\n",
       "      <td>2</td>\n",
       "      <td>Selfi Artika</td>\n",
       "      <td>Teori</td>\n",
       "    </tr>\n",
       "    <tr>\n",
       "      <th>2</th>\n",
       "      <td>3</td>\n",
       "      <td>Dyah Mukarromah</td>\n",
       "      <td>Teori</td>\n",
       "    </tr>\n",
       "  </tbody>\n",
       "</table>\n",
       "</div>"
      ],
      "text/plain": [
       "   ID_Dosen             Nama_Dosen Bidang_Ahli\n",
       "0         1  Ledy Elsera Astrianty       Teori\n",
       "1         2           Selfi Artika       Teori\n",
       "2         3        Dyah Mukarromah       Teori"
      ]
     },
     "execution_count": 15,
     "metadata": {},
     "output_type": "execute_result"
    }
   ],
   "source": [
    "query = 'SELECT * FROM Dosen'\n",
    "\n",
    "data = pd.read_sql_query(query, connect)\n",
    "data"
   ]
  }
 ],
 "metadata": {
  "kernelspec": {
   "display_name": "Python 3",
   "language": "python",
   "name": "python3"
  },
  "language_info": {
   "codemirror_mode": {
    "name": "ipython",
    "version": 3
   },
   "file_extension": ".py",
   "mimetype": "text/x-python",
   "name": "python",
   "nbconvert_exporter": "python",
   "pygments_lexer": "ipython3",
   "version": "3.10.13"
  }
 },
 "nbformat": 4,
 "nbformat_minor": 2
}
